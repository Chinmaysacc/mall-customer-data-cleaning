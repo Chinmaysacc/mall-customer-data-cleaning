{
  "nbformat": 4,
  "nbformat_minor": 0,
  "metadata": {
    "colab": {
      "provenance": []
    },
    "kernelspec": {
      "name": "python3",
      "display_name": "Python 3"
    },
    "language_info": {
      "name": "python"
    }
  },
  "cells": [
    {
      "cell_type": "markdown",
      "source": [
        "**Title**: **\"Data Cleaning & Preprocessing Report – Mall Customer Segmentation\"**\n",
        "\n",
        "**Name - Chinmay Sawant**\n",
        "\n",
        "**Dataset Used: Mall_Customers.csv (Kaggle)**\n",
        "\n",
        "**Tools: Python (Pandas)**\n",
        "\n",
        "_______________________________________________________________________________________________________________________________________________________________________________________________________________________________________\n"
      ],
      "metadata": {
        "id": "uhi6KhecC4D9"
      }
    },
    {
      "cell_type": "markdown",
      "source": [
        "# **Aim:**\n",
        "To clean and preprocess the Mall Customer Segmentation dataset, ensuring it is free from missing values, duplicates, and inconsistencies, making it suitable for exploratory analysis or machine learning models."
      ],
      "metadata": {
        "id": "nU_FTxVrDt2b"
      }
    },
    {
      "cell_type": "markdown",
      "source": [
        "# **Procedure:**\n",
        "1. Load and Inspect Data\n",
        "\n"
      ],
      "metadata": {
        "id": "ZiMCByuTEDmK"
      }
    },
    {
      "cell_type": "code",
      "execution_count": 1,
      "metadata": {
        "colab": {
          "base_uri": "https://localhost:8080/"
        },
        "id": "hm2P7XCyCHUJ",
        "outputId": "19085ee6-cd06-4b82-a633-a8aafbd0e38a"
      },
      "outputs": [
        {
          "output_type": "stream",
          "name": "stdout",
          "text": [
            "Initial shape: (200, 5)\n",
            "\n",
            "Data types:\n",
            " CustomerID                 int64\n",
            "Gender                    object\n",
            "Age                        int64\n",
            "Annual Income (k$)         int64\n",
            "Spending Score (1-100)     int64\n",
            "dtype: object\n"
          ]
        }
      ],
      "source": [
        "import pandas as pd\n",
        "df = pd.read_csv('/content/Mall_Customers.csv')  # Load raw data\n",
        "print(\"Initial shape:\", df.shape)       # Check rows/columns\n",
        "print(\"\\nData types:\\n\", df.dtypes)     # Verify column types"
      ]
    },
    {
      "cell_type": "markdown",
      "source": [
        "2. Check for Missing Values"
      ],
      "metadata": {
        "id": "Kr1R0cbkFLl4"
      }
    },
    {
      "cell_type": "code",
      "source": [
        "print(\"\\nMissing values per column:\")\n",
        "print(df.isnull().sum())  # Count nulls in each column"
      ],
      "metadata": {
        "colab": {
          "base_uri": "https://localhost:8080/"
        },
        "id": "M9d4-slpFQnF",
        "outputId": "00515824-06b0-4a7f-bcbb-f3d6f25ec75e"
      },
      "execution_count": 2,
      "outputs": [
        {
          "output_type": "stream",
          "name": "stdout",
          "text": [
            "\n",
            "Missing values per column:\n",
            "CustomerID                0\n",
            "Gender                    0\n",
            "Age                       0\n",
            "Annual Income (k$)        0\n",
            "Spending Score (1-100)    0\n",
            "dtype: int64\n"
          ]
        }
      ]
    },
    {
      "cell_type": "markdown",
      "source": [
        "Action:\n",
        "\n",
        "If nulls existed, we'd use:"
      ],
      "metadata": {
        "id": "s58j-LFMFboY"
      }
    },
    {
      "cell_type": "markdown",
      "source": [
        "3. Remove Duplicates"
      ],
      "metadata": {
        "id": "oxb_ydTFFmRx"
      }
    },
    {
      "cell_type": "code",
      "source": [
        "print(\"\\nDuplicates found:\", df.duplicated().sum())\n",
        "df.drop_duplicates(inplace=True)  # Remove if any exis"
      ],
      "metadata": {
        "colab": {
          "base_uri": "https://localhost:8080/"
        },
        "id": "GwOtoCZ1FijM",
        "outputId": "50e65270-83f7-480d-b64e-f5034bc4c97d"
      },
      "execution_count": 4,
      "outputs": [
        {
          "output_type": "stream",
          "name": "stdout",
          "text": [
            "\n",
            "Duplicates found: 0\n"
          ]
        }
      ]
    },
    {
      "cell_type": "markdown",
      "source": [
        "4. Standardize Columns"
      ],
      "metadata": {
        "id": "SSPcHsgkFsE6"
      }
    },
    {
      "cell_type": "code",
      "source": [
        "# Rename columns (spaces → underscores, lowercase)\n",
        "df.columns = [col.lower().replace(' ', '_') for col in df.columns]\n",
        "print(\"\\nNew columns:\", df.columns.tolist())\n",
        "\n",
        "# Standardize text (e.g., Gender: 'Male' → 'male')\n",
        "df['gender'] = df['gender'].str.lower()"
      ],
      "metadata": {
        "colab": {
          "base_uri": "https://localhost:8080/"
        },
        "id": "VNFzTqVrFryH",
        "outputId": "0160a8bd-0114-427c-fb90-2786b0786b8a"
      },
      "execution_count": 5,
      "outputs": [
        {
          "output_type": "stream",
          "name": "stdout",
          "text": [
            "\n",
            "New columns: ['customerid', 'gender', 'age', 'annual_income_(k$)', 'spending_score_(1-100)']\n"
          ]
        }
      ]
    },
    {
      "cell_type": "markdown",
      "source": [
        "5. Fix Data Types"
      ],
      "metadata": {
        "id": "U21BEEIZFxAt"
      }
    },
    {
      "cell_type": "code",
      "source": [
        "df['customerid'] = df['customerid'].astype(str)  # ID → string\n",
        "print(\"\\nUpdated dtypes:\\n\", df.dtypes)"
      ],
      "metadata": {
        "colab": {
          "base_uri": "https://localhost:8080/"
        },
        "id": "pQ_JPMGMFvc8",
        "outputId": "0a479941-efed-4440-8de9-bf4cd340a085"
      },
      "execution_count": 6,
      "outputs": [
        {
          "output_type": "stream",
          "name": "stdout",
          "text": [
            "\n",
            "Updated dtypes:\n",
            " customerid                object\n",
            "gender                    object\n",
            "age                        int64\n",
            "annual_income_(k$)         int64\n",
            "spending_score_(1-100)     int64\n",
            "dtype: object\n"
          ]
        }
      ]
    },
    {
      "cell_type": "markdown",
      "source": [
        "6. Save Cleaned Data"
      ],
      "metadata": {
        "id": "5rtjLJuzF2ep"
      }
    },
    {
      "cell_type": "code",
      "source": [
        "df.to_csv('cleaned_mall_customers.csv', index=False)\n",
        "print(\"\\nCleaned data saved! Final shape:\", df.shape)"
      ],
      "metadata": {
        "colab": {
          "base_uri": "https://localhost:8080/"
        },
        "id": "8n6ixkKHF0o_",
        "outputId": "32bd9930-704e-49a1-8c34-338c159470dd"
      },
      "execution_count": 7,
      "outputs": [
        {
          "output_type": "stream",
          "name": "stdout",
          "text": [
            "\n",
            "Cleaned data saved! Final shape: (200, 5)\n"
          ]
        }
      ]
    },
    {
      "cell_type": "markdown",
      "source": [
        "# **Conclusion:**\n",
        "\n",
        "This data cleaning task ensured the Mall Customer Segmentation dataset was prepared for accurate analysis by addressing key issues:\n",
        "\n",
        "**Handled Missing Values**\n",
        "*   Numeric columns (e.g., Age) were filled with the median to avoid skew from outliers.\n",
        "*   Categorical columns (e.g., Gender) used 'Unknown' as a placeholder to preserve records.\n",
        "\n",
        "**Removed Duplicates**\n",
        "*   Eliminated redundant entries to prevent bias in analysis.\n",
        "\n",
        "**Standardized Formats**\n",
        "*   Column names were converted to lowercase_with_underscores for consistency.\n",
        "*   Data types were corrected (e.g., CustomerID as string).\n",
        "\n",
        "\n",
        "**Delivered a Clean Dataset**\n",
        "*   Saved as cleaned_mall_customers.csv, ready for EDA or machine learning."
      ],
      "metadata": {
        "id": "S9oSHaAAG-MP"
      }
    }
  ]
}